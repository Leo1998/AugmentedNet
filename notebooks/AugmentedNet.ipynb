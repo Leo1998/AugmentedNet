{
  "cells": [
    {
      "cell_type": "markdown",
      "metadata": {
        "id": "meBhxknVVjxf"
      },
      "source": [
        "This notebook runs the `AugmentedNet` Roman numeral analysis network for inference on an unseen `MusicXML` file.\n",
        "\n",
        "More info about the network can be found in the [GitHub repo](https://github.com/napulen/AugmentedNet) and the [paper](https://archives.ismir.net/ismir2021/paper/000050.pdf)."
      ]
    },
    {
      "cell_type": "markdown",
      "metadata": {
        "id": "vphsLzoMWOl2"
      },
      "source": [
        "Get the repo and python dependencies"
      ]
    },
    {
      "cell_type": "code",
      "execution_count": 1,
      "metadata": {
        "colab": {
          "base_uri": "https://localhost:8080/"
        },
        "id": "PjHizBGaV-0m",
        "outputId": "01b33915-b845-4198-81ed-137cb309aa2e"
      },
      "outputs": [
        {
          "name": "stdout",
          "output_type": "stream",
          "text": [
            "Cloning into 'AugmentedNet'...\n",
            "remote: Enumerating objects: 3988, done.\u001b[K\n",
            "remote: Counting objects: 100% (18/18), done.\u001b[K\n",
            "remote: Compressing objects: 100% (12/12), done.\u001b[K\n",
            "remote: Total 3988 (delta 8), reused 16 (delta 6), pack-reused 3970\u001b[K\n",
            "Receiving objects: 100% (3988/3988), 38.40 MiB | 12.91 MiB/s, done.\n",
            "Resolving deltas: 100% (2290/2290), done.\n",
            "/home/napulen/AugmentedNet-Copy/notebooks/AugmentedNet\n"
          ]
        }
      ],
      "source": [
        "# Clone the repo\n",
        "!git clone https://github.com/napulen/AugmentedNet.git\n",
        "%cd AugmentedNet\n",
        "!pip install -q music21==6.7.1\n",
        "!pip install -q mlflow==1.15.0\n",
        "!pip install -q pandas==1.2.2 "
      ]
    },
    {
      "cell_type": "markdown",
      "metadata": {
        "id": "dLEyLwUtWGuo"
      },
      "source": [
        "Download a test `MusicXML` file that is not part of the original dataset."
      ]
    },
    {
      "cell_type": "code",
      "execution_count": 2,
      "metadata": {
        "colab": {
          "base_uri": "https://localhost:8080/"
        },
        "id": "9Q8zBKtsXJJa",
        "outputId": "a3ee2297-1716-40d8-999e-5ef0f877a29e"
      },
      "outputs": [
        {
          "name": "stdout",
          "output_type": "stream",
          "text": [
            "--2022-05-28 00:28:47--  https://github.com/cuthbertLab/music21/raw/master/music21/corpus/bach/bwv253.mxl\n",
            "Resolving github.com (github.com)... 140.82.114.4\n",
            "Connecting to github.com (github.com)|140.82.114.4|:443... connected.\n",
            "HTTP request sent, awaiting response... 302 Found\n",
            "Location: https://raw.githubusercontent.com/cuthbertLab/music21/master/music21/corpus/bach/bwv253.mxl [following]\n",
            "--2022-05-28 00:28:47--  https://raw.githubusercontent.com/cuthbertLab/music21/master/music21/corpus/bach/bwv253.mxl\n",
            "Resolving raw.githubusercontent.com (raw.githubusercontent.com)... 185.199.108.133, 185.199.109.133, 185.199.110.133, ...\n",
            "Connecting to raw.githubusercontent.com (raw.githubusercontent.com)|185.199.108.133|:443... connected.\n",
            "HTTP request sent, awaiting response... 200 OK\n",
            "Length: 3853 (3.8K) [application/octet-stream]\n",
            "Saving to: ‘bwv253.mxl’\n",
            "\n",
            "bwv253.mxl          100%[===================>]   3.76K  --.-KB/s    in 0s      \n",
            "\n",
            "2022-05-28 00:28:47 (91.2 MB/s) - ‘bwv253.mxl’ saved [3853/3853]\n",
            "\n"
          ]
        }
      ],
      "source": [
        "!wget https://github.com/cuthbertLab/music21/raw/master/music21/corpus/bach/bwv253.mxl\n",
        "score = \"bwv253.mxl\""
      ]
    },
    {
      "cell_type": "markdown",
      "metadata": {
        "id": "-Qhh-NgGYT9W"
      },
      "source": [
        "Run the network to analyze the score."
      ]
    },
    {
      "cell_type": "code",
      "execution_count": 3,
      "metadata": {
        "colab": {
          "base_uri": "https://localhost:8080/"
        },
        "id": "4JTU022KYZ2t",
        "outputId": "287314d8-8e25-47fa-cefd-6a06b2d66c95"
      },
      "outputs": [
        {
          "name": "stdout",
          "output_type": "stream",
          "text": [
            "2022-05-28 00:28:48.802040: I tensorflow/stream_executor/platform/default/dso_loader.cc:53] Successfully opened dynamic library libcudart.so.11.0\n",
            "2022-05-28 00:28:50.868294: I tensorflow/stream_executor/platform/default/dso_loader.cc:53] Successfully opened dynamic library libcuda.so.1\n",
            "2022-05-28 00:28:51.188742: E tensorflow/stream_executor/cuda/cuda_driver.cc:328] failed call to cuInit: CUDA_ERROR_NO_DEVICE: no CUDA-capable device is detected\n",
            "2022-05-28 00:28:51.188799: I tensorflow/stream_executor/cuda/cuda_diagnostics.cc:156] kernel driver does not appear to be running on this host (DESKTOP-PIUMVJ0): /proc/driver/nvidia/version does not exist\n",
            "2022-05-28 00:28:51.189089: I tensorflow/core/platform/cpu_feature_guard.cc:142] This TensorFlow binary is optimized with oneAPI Deep Neural Network Library (oneDNN) to use the following CPU instructions in performance-critical operations:  AVX2 FMA\n",
            "To enable them in other operations, rebuild TensorFlow with the appropriate compiler flags.\n",
            "2022-05-28 00:28:52.716643: I tensorflow/compiler/mlir/mlir_graph_optimization_pass.cc:176] None of the MLIR Optimization Passes are enabled (registered 2)\n",
            "2022-05-28 00:28:52.718541: I tensorflow/core/platform/profile_utils/cpu_utils.cc:114] CPU Frequency: 2592005000 Hz\n",
            "Alto35 (1, 640, 35)\n",
            "Bass35 (1, 640, 35)\n",
            "HarmonicRhythm7 (1, 640, 7)\n",
            "LocalKey35 (1, 640, 38)\n",
            "PitchClassSet121 (1, 640, 121)\n",
            "RomanNumeral31 (1, 640, 31)\n",
            "Soprano35 (1, 640, 35)\n",
            "Tenor35 (1, 640, 35)\n",
            "TonicizedKey35 (1, 640, 38)\n",
            "/home/napulen/AugmentedNet-Copy/notebooks/AugmentedNet/AugmentedNet/inference.py:55: UserWarning: Boolean Series key will be reindexed to match DataFrame index.\n",
            "  return df.dropna()[df.HarmonicRhythm7 == 0]\n",
            "Composer: J.S. Bach\n",
            "Title: bwv253.mxl\n",
            "Analyst: AugmentedNet, developed by Néstor Nápoles López\n",
            "\n",
            "Time Signature: 4/4\n",
            "\n",
            "m0 A: b4 I\n",
            "m1 b2 V6 b3 I b4 IV6\n",
            "m2 b1 IV/IV b2 I b3 IV b4 I\n",
            "m3 b1 V7 b2 vi b3 IV b4 IV b4.5 viio\n",
            "m4 b1 I b2.5 I b3 I64 b4 V7\n",
            "m5 b1 I\n",
            "m6 b1 V7 b2 V6/vi b3 vi b4 V7/V\n",
            "m7 b1 V6 b2 viio6/V b3 V b4 V/vi\n",
            "m8 b1 vi b2 IV6 b3 I b3.5 I b4 vi6 b4.5 vi\n",
            "m9 b1 vi b2 I6 b3 I64 b4 V7\n",
            "m10 b1 I\n"
          ]
        }
      ],
      "source": [
        "!python -m AugmentedNet.inference --model AugmentedNet.hdf5 {score}"
      ]
    },
    {
      "cell_type": "markdown",
      "metadata": {
        "id": "4RA4XTP8YkoA"
      },
      "source": [
        "Look at the annotations"
      ]
    },
    {
      "cell_type": "code",
      "execution_count": 4,
      "metadata": {
        "colab": {
          "base_uri": "https://localhost:8080/",
          "height": 505
        },
        "id": "jQUKsS8kZAfB",
        "outputId": "7d69c8d1-e30a-44c7-d494-45e7052cd4b6"
      },
      "outputs": [
        {
          "data": {
            "text/html": [
              "<div>\n",
              "<style scoped>\n",
              "    .dataframe tbody tr th:only-of-type {\n",
              "        vertical-align: middle;\n",
              "    }\n",
              "\n",
              "    .dataframe tbody tr th {\n",
              "        vertical-align: top;\n",
              "    }\n",
              "\n",
              "    .dataframe thead th {\n",
              "        text-align: right;\n",
              "    }\n",
              "</style>\n",
              "<table border=\"1\" class=\"dataframe\">\n",
              "  <thead>\n",
              "    <tr style=\"text-align: right;\">\n",
              "      <th></th>\n",
              "      <th>Unnamed: 0</th>\n",
              "      <th>Alto35</th>\n",
              "      <th>Bass35</th>\n",
              "      <th>HarmonicRhythm7</th>\n",
              "      <th>LocalKey35</th>\n",
              "      <th>PitchClassSet121</th>\n",
              "      <th>RomanNumeral31</th>\n",
              "      <th>Soprano35</th>\n",
              "      <th>Tenor35</th>\n",
              "      <th>TonicizedKey35</th>\n",
              "      <th>offset</th>\n",
              "      <th>measure</th>\n",
              "    </tr>\n",
              "  </thead>\n",
              "  <tbody>\n",
              "    <tr>\n",
              "      <th>0</th>\n",
              "      <td>0</td>\n",
              "      <td>E</td>\n",
              "      <td>A</td>\n",
              "      <td>0</td>\n",
              "      <td>A</td>\n",
              "      <td>(1, 4, 9)</td>\n",
              "      <td>I</td>\n",
              "      <td>A</td>\n",
              "      <td>C#</td>\n",
              "      <td>A</td>\n",
              "      <td>0.000</td>\n",
              "      <td>0.0</td>\n",
              "    </tr>\n",
              "    <tr>\n",
              "      <th>1</th>\n",
              "      <td>1</td>\n",
              "      <td>E</td>\n",
              "      <td>A</td>\n",
              "      <td>1</td>\n",
              "      <td>A</td>\n",
              "      <td>(1, 4, 9)</td>\n",
              "      <td>I</td>\n",
              "      <td>A</td>\n",
              "      <td>C#</td>\n",
              "      <td>A</td>\n",
              "      <td>0.125</td>\n",
              "      <td>0.0</td>\n",
              "    </tr>\n",
              "    <tr>\n",
              "      <th>2</th>\n",
              "      <td>2</td>\n",
              "      <td>E</td>\n",
              "      <td>A</td>\n",
              "      <td>2</td>\n",
              "      <td>A</td>\n",
              "      <td>(1, 4, 9)</td>\n",
              "      <td>I</td>\n",
              "      <td>A</td>\n",
              "      <td>C#</td>\n",
              "      <td>A</td>\n",
              "      <td>0.250</td>\n",
              "      <td>0.0</td>\n",
              "    </tr>\n",
              "    <tr>\n",
              "      <th>3</th>\n",
              "      <td>3</td>\n",
              "      <td>E</td>\n",
              "      <td>A</td>\n",
              "      <td>2</td>\n",
              "      <td>A</td>\n",
              "      <td>(1, 4, 9)</td>\n",
              "      <td>I</td>\n",
              "      <td>A</td>\n",
              "      <td>C#</td>\n",
              "      <td>A</td>\n",
              "      <td>0.375</td>\n",
              "      <td>0.0</td>\n",
              "    </tr>\n",
              "    <tr>\n",
              "      <th>4</th>\n",
              "      <td>4</td>\n",
              "      <td>E</td>\n",
              "      <td>A</td>\n",
              "      <td>3</td>\n",
              "      <td>A</td>\n",
              "      <td>(1, 4, 9)</td>\n",
              "      <td>I</td>\n",
              "      <td>A</td>\n",
              "      <td>C#</td>\n",
              "      <td>A</td>\n",
              "      <td>0.500</td>\n",
              "      <td>0.0</td>\n",
              "    </tr>\n",
              "    <tr>\n",
              "      <th>...</th>\n",
              "      <td>...</td>\n",
              "      <td>...</td>\n",
              "      <td>...</td>\n",
              "      <td>...</td>\n",
              "      <td>...</td>\n",
              "      <td>...</td>\n",
              "      <td>...</td>\n",
              "      <td>...</td>\n",
              "      <td>...</td>\n",
              "      <td>...</td>\n",
              "      <td>...</td>\n",
              "      <td>...</td>\n",
              "    </tr>\n",
              "    <tr>\n",
              "      <th>635</th>\n",
              "      <td>635</td>\n",
              "      <td>C--</td>\n",
              "      <td>C--</td>\n",
              "      <td>6</td>\n",
              "      <td>A</td>\n",
              "      <td>(0, 1, 5, 8)</td>\n",
              "      <td>Cad</td>\n",
              "      <td>C--</td>\n",
              "      <td>C--</td>\n",
              "      <td>A</td>\n",
              "      <td>NaN</td>\n",
              "      <td>NaN</td>\n",
              "    </tr>\n",
              "    <tr>\n",
              "      <th>636</th>\n",
              "      <td>636</td>\n",
              "      <td>C--</td>\n",
              "      <td>C--</td>\n",
              "      <td>6</td>\n",
              "      <td>A</td>\n",
              "      <td>(0, 1, 5, 8)</td>\n",
              "      <td>Cad</td>\n",
              "      <td>C--</td>\n",
              "      <td>C--</td>\n",
              "      <td>A</td>\n",
              "      <td>NaN</td>\n",
              "      <td>NaN</td>\n",
              "    </tr>\n",
              "    <tr>\n",
              "      <th>637</th>\n",
              "      <td>637</td>\n",
              "      <td>C--</td>\n",
              "      <td>C--</td>\n",
              "      <td>6</td>\n",
              "      <td>A</td>\n",
              "      <td>(0, 1, 5, 8)</td>\n",
              "      <td>Cad</td>\n",
              "      <td>C--</td>\n",
              "      <td>C--</td>\n",
              "      <td>A</td>\n",
              "      <td>NaN</td>\n",
              "      <td>NaN</td>\n",
              "    </tr>\n",
              "    <tr>\n",
              "      <th>638</th>\n",
              "      <td>638</td>\n",
              "      <td>C--</td>\n",
              "      <td>C--</td>\n",
              "      <td>6</td>\n",
              "      <td>A</td>\n",
              "      <td>(0, 1, 5, 8)</td>\n",
              "      <td>Cad</td>\n",
              "      <td>C--</td>\n",
              "      <td>C--</td>\n",
              "      <td>A</td>\n",
              "      <td>NaN</td>\n",
              "      <td>NaN</td>\n",
              "    </tr>\n",
              "    <tr>\n",
              "      <th>639</th>\n",
              "      <td>639</td>\n",
              "      <td>C--</td>\n",
              "      <td>C--</td>\n",
              "      <td>6</td>\n",
              "      <td>A</td>\n",
              "      <td>(0, 1, 5, 8)</td>\n",
              "      <td>Cad</td>\n",
              "      <td>C--</td>\n",
              "      <td>C--</td>\n",
              "      <td>A</td>\n",
              "      <td>NaN</td>\n",
              "      <td>NaN</td>\n",
              "    </tr>\n",
              "  </tbody>\n",
              "</table>\n",
              "<p>640 rows × 12 columns</p>\n",
              "</div>"
            ],
            "text/plain": [
              "     Unnamed: 0 Alto35 Bass35  HarmonicRhythm7 LocalKey35 PitchClassSet121  \\\n",
              "0             0      E      A                0          A        (1, 4, 9)   \n",
              "1             1      E      A                1          A        (1, 4, 9)   \n",
              "2             2      E      A                2          A        (1, 4, 9)   \n",
              "3             3      E      A                2          A        (1, 4, 9)   \n",
              "4             4      E      A                3          A        (1, 4, 9)   \n",
              "..          ...    ...    ...              ...        ...              ...   \n",
              "635         635    C--    C--                6          A     (0, 1, 5, 8)   \n",
              "636         636    C--    C--                6          A     (0, 1, 5, 8)   \n",
              "637         637    C--    C--                6          A     (0, 1, 5, 8)   \n",
              "638         638    C--    C--                6          A     (0, 1, 5, 8)   \n",
              "639         639    C--    C--                6          A     (0, 1, 5, 8)   \n",
              "\n",
              "    RomanNumeral31 Soprano35 Tenor35 TonicizedKey35  offset  measure  \n",
              "0                I         A      C#              A   0.000      0.0  \n",
              "1                I         A      C#              A   0.125      0.0  \n",
              "2                I         A      C#              A   0.250      0.0  \n",
              "3                I         A      C#              A   0.375      0.0  \n",
              "4                I         A      C#              A   0.500      0.0  \n",
              "..             ...       ...     ...            ...     ...      ...  \n",
              "635            Cad       C--     C--              A     NaN      NaN  \n",
              "636            Cad       C--     C--              A     NaN      NaN  \n",
              "637            Cad       C--     C--              A     NaN      NaN  \n",
              "638            Cad       C--     C--              A     NaN      NaN  \n",
              "639            Cad       C--     C--              A     NaN      NaN  \n",
              "\n",
              "[640 rows x 12 columns]"
            ]
          },
          "execution_count": 4,
          "metadata": {},
          "output_type": "execute_result"
        }
      ],
      "source": [
        "import pandas as pd\n",
        "output = pd.read_csv(f\"{score.rsplit('.', 1)[0]}_annotated.csv\")\n",
        "output"
      ]
    },
    {
      "cell_type": "markdown",
      "metadata": {
        "id": "qHzaJPNecrX2"
      },
      "source": [
        "Download the annotated MusicXML to see the score"
      ]
    },
    {
      "cell_type": "code",
      "execution_count": 5,
      "metadata": {
        "colab": {
          "base_uri": "https://localhost:8080/"
        },
        "id": "PQuTpVZdfAOQ",
        "outputId": "10f26ab9-ff46-40d7-e780-99e76d75f924"
      },
      "outputs": [
        {
          "name": "stdout",
          "output_type": "stream",
          "text": [
            "The location of the annotated MusicXML is: ./bwv253_annotated.xml\n"
          ]
        }
      ],
      "source": [
        "print(f\"The location of the annotated MusicXML is: ./{score.rsplit('.', 1)[0]}_annotated.xml\")"
      ]
    }
  ],
  "metadata": {
    "colab": {
      "collapsed_sections": [],
      "name": "AugmentedNet.ipynb",
      "provenance": []
    },
    "interpreter": {
      "hash": "d86b22397e54ce83d9f8021bd82846a50cb845db5e55c6ede46bf989c7558c43"
    },
    "kernelspec": {
      "display_name": "Python 3.8.10 ('.env': venv)",
      "language": "python",
      "name": "python3"
    },
    "language_info": {
      "codemirror_mode": {
        "name": "ipython",
        "version": 3
      },
      "file_extension": ".py",
      "mimetype": "text/x-python",
      "name": "python",
      "nbconvert_exporter": "python",
      "pygments_lexer": "ipython3",
      "version": "3.8.10"
    }
  },
  "nbformat": 4,
  "nbformat_minor": 0
}
