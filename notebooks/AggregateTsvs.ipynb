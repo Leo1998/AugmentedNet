{
 "cells": [
  {
   "cell_type": "code",
   "execution_count": 1,
   "metadata": {},
   "outputs": [
    {
     "name": "stdout",
     "output_type": "stream",
     "text": [
      "/home/napulen/AugmentedNet\n"
     ]
    }
   ],
   "source": [
    "%cd .."
   ]
  },
  {
   "cell_type": "code",
   "execution_count": 2,
   "metadata": {},
   "outputs": [],
   "source": [
    "import os\n",
    "\n",
    "import pandas as pd\n",
    "import seaborn as sns\n",
    "import matplotlib.pyplot as plt\n",
    "plt.rcParams[\"figure.figsize\"] = (10, 5)"
   ]
  },
  {
   "cell_type": "code",
   "execution_count": 3,
   "metadata": {},
   "outputs": [],
   "source": [
    "summary = \"dataset/dataset_summary.tsv\"\n",
    "dfsummary = pd.read_csv(summary, sep=\"\\t\")"
   ]
  },
  {
   "cell_type": "code",
   "execution_count": 4,
   "metadata": {},
   "outputs": [],
   "source": [
    "training = dfsummary[dfsummary.split == \"training\"]"
   ]
  },
  {
   "cell_type": "code",
   "execution_count": 6,
   "metadata": {},
   "outputs": [
    {
     "name": "stdout",
     "output_type": "stream",
     "text": [
      "dataset/training/bps-02-op002-no2-1.tsv\n",
      "dataset/training/bps-03-op002-no3-1.tsv\n",
      "dataset/training/bps-04-op007-1.tsv\n",
      "dataset/training/bps-05-op010-no1-1.tsv\n",
      "dataset/training/bps-09-op014-no1-1.tsv\n",
      "dataset/training/bps-11-op022-1.tsv\n",
      "dataset/training/bps-12-op026-1.tsv\n",
      "dataset/training/bps-13-op027-no1-1.tsv\n",
      "dataset/training/bps-17-op031-no2-1.tsv\n",
      "dataset/training/bps-18-op031-no3-1.tsv\n",
      "dataset/training/bps-21-op053-1.tsv\n",
      "dataset/training/bps-22-op054-1.tsv\n",
      "dataset/training/bps-24-op078-1.tsv\n",
      "dataset/training/bps-27-op090-1.tsv\n",
      "dataset/training/bps-28-op101-1.tsv\n",
      "dataset/training/bps-30-op109-1.tsv\n",
      "dataset/training/bps-31-op110-1.tsv\n",
      "dataset/training/bps-32-op111-1.tsv\n",
      "dataset/training/wirwtc-bach-wtc-i-1.tsv\n",
      "dataset/training/wirwtc-bach-wtc-i-2.tsv\n",
      "dataset/training/wirwtc-bach-wtc-i-4.tsv\n",
      "dataset/training/wirwtc-bach-wtc-i-5.tsv\n",
      "dataset/training/wirwtc-bach-wtc-i-6.tsv\n",
      "dataset/training/wirwtc-bach-wtc-i-10.tsv\n",
      "dataset/training/wirwtc-bach-wtc-i-13.tsv\n",
      "dataset/training/wirwtc-bach-wtc-i-14.tsv\n",
      "dataset/training/wirwtc-bach-wtc-i-19.tsv\n",
      "dataset/training/wirwtc-bach-wtc-i-20.tsv\n",
      "dataset/training/wirwtc-bach-wtc-i-21.tsv\n",
      "dataset/training/wirwtc-bach-wtc-i-23.tsv\n",
      "dataset/training/abc-op131-3.tsv\n",
      "dataset/training/abc-op95-4.tsv\n",
      "dataset/training/abc-op132-2.tsv\n",
      "dataset/training/abc-op95-2.tsv\n",
      "dataset/training/abc-op130-1.tsv\n",
      "dataset/training/abc-op95-1.tsv\n",
      "dataset/training/abc-op127-3.tsv\n",
      "dataset/training/abc-op18-no6-2.tsv\n",
      "dataset/training/abc-op127-4.tsv\n",
      "dataset/training/abc-op130-2.tsv\n",
      "dataset/training/abc-op18-no5-3.tsv\n",
      "dataset/training/abc-op59-no1-2.tsv\n",
      "dataset/training/abc-op59-no1-3.tsv\n",
      "dataset/training/abc-op18-no4-4.tsv\n",
      "dataset/training/abc-op18-no5-1.tsv\n",
      "dataset/training/abc-op132-1.tsv\n",
      "dataset/training/abc-op74-2.tsv\n",
      "dataset/training/abc-op18-no5-2.tsv\n",
      "dataset/training/abc-op127-1.tsv\n",
      "dataset/training/abc-op18-no3-2.tsv\n",
      "dataset/training/abc-op18-no2-4.tsv\n",
      "dataset/training/abc-op131-6.tsv\n",
      "dataset/training/abc-op135-4.tsv\n",
      "dataset/training/abc-op135-3.tsv\n",
      "dataset/training/abc-op18-no2-3.tsv\n",
      "dataset/training/abc-op18-no6-4.tsv\n",
      "dataset/training/abc-op59-no3-2.tsv\n",
      "dataset/training/abc-op59-no3-4.tsv\n",
      "dataset/training/abc-op59-no2-1.tsv\n",
      "dataset/training/abc-op18-no3-4.tsv\n",
      "dataset/training/abc-op18-no4-1.tsv\n",
      "dataset/training/abc-op131-7.tsv\n",
      "dataset/training/abc-op18-no2-2.tsv\n",
      "dataset/training/abc-op130-6.tsv\n",
      "dataset/training/abc-op130-5.tsv\n",
      "dataset/training/abc-op18-no4-3.tsv\n",
      "dataset/training/abc-op18-no3-1.tsv\n",
      "dataset/training/abc-op59-no2-2.tsv\n",
      "dataset/training/abc-op59-no2-4.tsv\n",
      "dataset/training/abc-op18-no4-2.tsv\n",
      "dataset/training/abc-op135-1.tsv\n",
      "dataset/training/abc-op18-no1-4.tsv\n",
      "dataset/training/abc-op132-4.tsv\n",
      "dataset/training/abc-op18-no5-4.tsv\n",
      "dataset/training/abc-op130-4.tsv\n",
      "dataset/training/abc-op131-2.tsv\n",
      "dataset/training/abc-op74-1.tsv\n",
      "dataset/training/abc-op132-3.tsv\n",
      "dataset/training/abc-op130-3.tsv\n",
      "dataset/training/abc-op131-5.tsv\n",
      "dataset/training/tavern-mozart-k353-a.tsv\n",
      "dataset/training/tavern-mozart-k353-b.tsv\n",
      "dataset/training/tavern-mozart-k265-a.tsv\n",
      "dataset/training/tavern-mozart-k265-b.tsv\n",
      "dataset/training/tavern-beethoven-woo-73-a.tsv\n",
      "dataset/training/tavern-beethoven-woo-73-b.tsv\n",
      "dataset/training/tavern-beethoven-op34-a.tsv\n",
      "dataset/training/tavern-beethoven-op34-b.tsv\n",
      "dataset/training/tavern-mozart-k025-a.tsv\n",
      "dataset/training/tavern-mozart-k025-b.tsv\n",
      "dataset/training/tavern-beethoven-woo-63-a.tsv\n",
      "dataset/training/tavern-beethoven-woo-63-b.tsv\n",
      "dataset/training/tavern-beethoven-woo-68-a.tsv\n",
      "dataset/training/tavern-beethoven-woo-68-b.tsv\n",
      "dataset/training/tavern-beethoven-woo-66-a.tsv\n",
      "dataset/training/tavern-beethoven-woo-66-b.tsv\n",
      "dataset/training/tavern-mozart-k398-a.tsv\n",
      "dataset/training/tavern-mozart-k398-b.tsv\n",
      "dataset/training/tavern-beethoven-woo-69-a.tsv\n",
      "dataset/training/tavern-beethoven-woo-69-b.tsv\n",
      "dataset/training/tavern-mozart-k573-a.tsv\n",
      "dataset/training/tavern-mozart-k573-b.tsv\n",
      "dataset/training/tavern-beethoven-woo-76-a.tsv\n",
      "dataset/training/tavern-beethoven-woo-76-b.tsv\n",
      "dataset/training/tavern-beethoven-woo-72-a.tsv\n",
      "dataset/training/tavern-beethoven-woo-72-b.tsv\n",
      "dataset/training/tavern-mozart-k613-a.tsv\n",
      "dataset/training/tavern-mozart-k613-b.tsv\n",
      "dataset/training/tavern-beethoven-woo-65-a.tsv\n",
      "dataset/training/tavern-beethoven-woo-65-b.tsv\n",
      "dataset/training/tavern-beethoven-op76-a.tsv\n",
      "dataset/training/tavern-beethoven-op76-b.tsv\n",
      "dataset/training/tavern-mozart-k179-a.tsv\n",
      "dataset/training/tavern-mozart-k179-b.tsv\n",
      "dataset/training/tavern-mozart-k354-a.tsv\n",
      "dataset/training/tavern-mozart-k354-b.tsv\n",
      "dataset/training/tavern-beethoven-woo-71-a.tsv\n",
      "dataset/training/tavern-beethoven-woo-71-b.tsv\n",
      "dataset/training/haydnop20-no6-3.tsv\n",
      "dataset/training/haydnop20-no1-1.tsv\n",
      "dataset/training/haydnop20-no4-1.tsv\n",
      "dataset/training/haydnop20-no4-3.tsv\n",
      "dataset/training/haydnop20-no1-3.tsv\n",
      "dataset/training/haydnop20-no6-2.tsv\n",
      "dataset/training/haydnop20-no3-1.tsv\n",
      "dataset/training/haydnop20-no5-1.tsv\n",
      "dataset/training/haydnop20-no1-4.tsv\n",
      "dataset/training/haydnop20-no2-3.tsv\n",
      "dataset/training/haydnop20-no5-4.tsv\n",
      "dataset/training/haydnop20-no3-2.tsv\n",
      "dataset/training/haydnop20-no4-4.tsv\n",
      "dataset/training/haydnop20-no2-1.tsv\n",
      "dataset/training/haydnop20-no4-2.tsv\n",
      "dataset/training/haydnop20-no6-1.tsv\n",
      "dataset/training/wir-openscore-liedercorpus-schubert-winterreise-d-911-07-auf-dem-flusse.tsv\n",
      "dataset/training/wir-openscore-liedercorpus-schubert-winterreise-d-911-12-einsamkeit-urspruengliche-fassung.tsv\n",
      "dataset/training/wir-openscore-liedercorpus-schubert-schwanengesang-d-957-12-am-meer.tsv\n",
      "dataset/training/wir-openscore-liedercorpus-reichardt-zwolf-gesange-op-3-07-die-wiese.tsv\n",
      "dataset/training/wir-openscore-liedercorpus-schubert-winterreise-d-911-16-letzte-hoffnung.tsv\n",
      "dataset/training/wir-openscore-liedercorpus-reichardt-zwolf-gesange-op-3-02-der-traurige-wanderer.tsv\n",
      "dataset/training/wir-openscore-liedercorpus-schumann-dichterliebe-op-48-15-aus-alten-marchen-winkt-es.tsv\n",
      "dataset/training/wir-openscore-liedercorpus-hensel-6-lieder-op-1-3-warum-sind-denn-die-rosen-so-blass.tsv\n",
      "dataset/training/wir-openscore-liedercorpus-schubert-winterreise-d-911-23-die-nebensonnen.tsv\n",
      "dataset/training/wir-openscore-liedercorpus-schubert-winterreise-d-911-05-der-lindenbaum.tsv\n",
      "dataset/training/wir-openscore-liedercorpus-schumann-dichterliebe-op-48-11-ein-jungling-liebt-ein-madchen.tsv\n",
      "dataset/training/wir-openscore-liedercorpus-reichardt-zwolf-gesange-op-3-03-die-blume-der-blumen.tsv\n",
      "dataset/training/wir-openscore-liedercorpus-wolf-eichendorff-lieder-15-unfall.tsv\n",
      "dataset/training/wir-openscore-liedercorpus-schumann-6-lieder-op-13-1-ich-stand-in-dunklen-traumen.tsv\n",
      "dataset/training/wir-openscore-liedercorpus-hensel-6-lieder-op-1-4-mayenlied.tsv\n",
      "dataset/training/wir-openscore-liedercorpus-schumann-frauenliebe-und-leben-op-42-1-seit-ich-ihn-gesehen.tsv\n",
      "dataset/training/wir-openscore-liedercorpus-schubert-winterreise-d-911-09-irrlicht.tsv\n",
      "dataset/training/wir-openscore-liedercorpus-schubert-winterreise-d-911-13-die-post.tsv\n",
      "dataset/training/wir-openscore-liedercorpus-chausson-7-melodies-op-2-7-le-colibri.tsv\n",
      "dataset/training/wir-openscore-liedercorpus-schubert-schwanengesang-d-957-09-ihr-bild.tsv\n",
      "dataset/training/wir-openscore-liedercorpus-chaminade-amoroso.tsv\n",
      "dataset/training/wir-openscore-liedercorpus-hensel-3-lieder-1-sehnsucht.tsv\n",
      "dataset/training/wir-openscore-liedercorpus-wolf-eichendorff-lieder-13-der-scholar.tsv\n",
      "dataset/training/wir-openscore-liedercorpus-schubert-winterreise-d-911-14-der-greise-kopf.tsv\n",
      "dataset/training/wir-openscore-liedercorpus-reichardt-zwolf-gesange-op-3-09-hier-liegt-ein-spielmann-begraben.tsv\n",
      "dataset/training/wir-openscore-liedercorpus-hensel-6-lieder-op-1-1-schwanenlied.tsv\n",
      "dataset/training/wir-openscore-liedercorpus-schumann-dichterliebe-op-48-09-das-ist-ein-floten-und-geigen.tsv\n",
      "dataset/training/wir-openscore-liedercorpus-schumann-dichterliebe-op-48-05-ich-will-meine-seele-tauchen.tsv\n",
      "dataset/training/wir-openscore-liedercorpus-wolf-eichendorff-lieder-04-das-standchen.tsv\n",
      "dataset/training/wir-openscore-liedercorpus-schubert-winterreise-d-911-24-der-leiermann-spatere-fassung.tsv\n",
      "dataset/training/wir-openscore-liedercorpus-hensel-5-lieder-op-10-3-abendbild.tsv\n",
      "dataset/training/wir-openscore-liedercorpus-reichardt-zwolf-gesange-op-3-08-kaeuzlein.tsv\n",
      "dataset/training/wir-openscore-liedercorpus-reichardt-zwolf-gesange-op-3-05-betteley-der-vogel.tsv\n",
      "dataset/training/wir-openscore-liedercorpus-hensel-5-lieder-op-10-5-bergeslust.tsv\n",
      "dataset/training/wir-openscore-liedercorpus-schubert-winterreise-d-911-17-im-dorfe.tsv\n",
      "dataset/training/wir-openscore-liedercorpus-coleridge-taylor-oh-the-summer.tsv\n",
      "dataset/training/wir-openscore-liedercorpus-schubert-winterreise-d-911-02-die-wetterfahne.tsv\n",
      "dataset/training/wir-openscore-liedercorpus-schubert-schwanengesang-d-957-03-fruhlingssehnsucht.tsv\n",
      "dataset/training/wir-openscore-liedercorpus-lang-6-lieder-op-25-4-lied-immer-sich-rein-kindlich-erfreun.tsv\n",
      "dataset/training/wir-openscore-liedercorpus-hensel-6-lieder-op-9-2-ferne.tsv\n",
      "dataset/training/wir-openscore-liedercorpus-schubert-winterreise-d-911-20-der-wegweiser.tsv\n",
      "dataset/training/wir-openscore-liedercorpus-schumann-dichterliebe-op-48-14-allnachtlich-im-traume.tsv\n",
      "dataset/training/wir-openscore-liedercorpus-schubert-schwanengesang-d-957-14-die-taubenpost.tsv\n",
      "dataset/training/wir-openscore-liedercorpus-schubert-winterreise-d-911-19-tauschung.tsv\n",
      "dataset/training/wir-openscore-liedercorpus-schumann-6-lieder-op-13-6-die-stille-lotosblume.tsv\n",
      "dataset/training/wir-openscore-liedercorpus-schubert-winterreise-d-911-15-die-kraehe.tsv\n",
      "dataset/training/wir-openscore-liedercorpus-schubert-winterreise-d-911-08-ruckblick.tsv\n",
      "dataset/training/wir-openscore-liedercorpus-hensel-5-lieder-op-10-4-im-herbste.tsv\n",
      "dataset/training/wir-openscore-liedercorpus-franz-6-gesange-op-14-5-liebesfruhling.tsv\n",
      "dataset/training/wir-openscore-liedercorpus-schumann-dichterliebe-op-48-03-die-rose-die-lilie.tsv\n",
      "dataset/training/wir-openscore-liedercorpus-mahler-kindertotenlieder-4-oft-denk-ich-sie-sind-nur-ausgegangen.tsv\n",
      "dataset/training/wir-openscore-liedercorpus-hensel-5-lieder-op-10-2-vorwurf.tsv\n",
      "dataset/training/wir-openscore-liedercorpus-schubert-winterreise-d-911-21-das-wirthshaus.tsv\n",
      "dataset/training/wir-openscore-liedercorpus-schubert-schwanengesang-d-957-06-in-der-ferne.tsv\n",
      "dataset/training/wir-openscore-liedercorpus-schumann-dichterliebe-op-48-07-ich-grolle-nicht.tsv\n",
      "dataset/training/wir-openscore-liedercorpus-schubert-schwanengesang-d-957-11-die-stadt.tsv\n",
      "dataset/training/wir-openscore-liedercorpus-reichardt-zwolf-gesange-op-3-01-fruhlingsblumen.tsv\n",
      "dataset/training/wir-openscore-liedercorpus-hensel-5-lieder-op-10-1-nach-suden.tsv\n",
      "dataset/training/wir-openscore-liedercorpus-schubert-winterreise-d-911-10-rast-spatere-fassung.tsv\n",
      "dataset/training/wir-openscore-liedercorpus-wolf-eichendorff-lieder-20-waldmadchen.tsv\n",
      "dataset/training/wir-openscore-liedercorpus-reichardt-zwolf-deutsche-und-italianische-romantische-gesange-10-ida-aus-ariels-offenbarungen.tsv\n",
      "dataset/training/wir-openscore-liedercorpus-schumann-dichterliebe-op-48-08-und-wusstens-die-blumen.tsv\n",
      "dataset/training/wir-openscore-liedercorpus-reichardt-zwolf-gesange-op-3-04-wachtelwacht.tsv\n",
      "dataset/training/wir-openscore-liedercorpus-schubert-winterreise-d-911-04-erstarrung.tsv\n",
      "dataset/training/wir-openscore-liedercorpus-schubert-schwanengesang-d-957-02-kriegers-ahnung.tsv\n",
      "dataset/training/wir-openscore-liedercorpus-holmes-les-heures-4-lheure-dazur.tsv\n",
      "dataset/training/wir-openscore-liedercorpus-schubert-winterreise-d-911-06-wasserfluth.tsv\n",
      "dataset/training/wir-openscore-liedercorpus-schumann-die-gute-nacht.tsv\n",
      "dataset/training/wir-openscore-liedercorpus-schumann-dichterliebe-op-48-06-im-rhein-im-heiligen-strome.tsv\n",
      "dataset/training/wir-openscore-liedercorpus-schumann-frauenliebe-und-leben-op-42-3-ich-kanns-nicht-fassen.tsv\n",
      "dataset/training/wir-openscore-liedercorpus-jaell-4-melodies-1-a-toi.tsv\n",
      "dataset/training/wir-openscore-liedercorpus-schumann-lieder-op-12-04-liebst-du-um-schonheit.tsv\n",
      "dataset/training/wir-openscore-liedercorpus-schumann-6-lieder-op-13-2-sie-liebten-sich-beide.tsv\n",
      "dataset/training/wir-openscore-liedercorpus-hensel-6-lieder-op-1-6-gondellied.tsv\n",
      "dataset/training/wir-openscore-liedercorpus-schubert-winterreise-d-911-01-gute-nacht.tsv\n",
      "dataset/training/wir-openscore-liedercorpus-hensel-6-lieder-op-1-5-morgenstandchen.tsv\n",
      "dataset/training/wir-openscore-liedercorpus-brahms-7-lieder-op-48-3-liebesklage-des-madchens.tsv\n",
      "dataset/training/wir-bach-chorales-6.tsv\n",
      "dataset/training/wir-bach-chorales-18.tsv\n",
      "dataset/training/wir-bach-chorales-3.tsv\n",
      "dataset/training/wir-bach-chorales-9.tsv\n",
      "dataset/training/wir-bach-chorales-12.tsv\n",
      "dataset/training/wir-bach-chorales-7.tsv\n",
      "dataset/training/wir-bach-chorales-5.tsv\n",
      "dataset/training/wir-bach-chorales-20.tsv\n",
      "dataset/training/wir-bach-chorales-1.tsv\n",
      "dataset/training/wir-bach-chorales-17.tsv\n",
      "dataset/training/wir-bach-chorales-13.tsv\n",
      "dataset/training/wir-bach-chorales-8.tsv\n",
      "dataset/training/wir-monteverdi-madrigals-book-3-14.tsv\n",
      "dataset/training/wir-monteverdi-madrigals-book-3-6.tsv\n",
      "dataset/training/wir-monteverdi-madrigals-book-3-11.tsv\n",
      "dataset/training/wir-monteverdi-madrigals-book-3-19.tsv\n",
      "dataset/training/wir-monteverdi-madrigals-book-3-8.tsv\n",
      "dataset/training/wir-monteverdi-madrigals-book-3-3.tsv\n",
      "dataset/training/wir-monteverdi-madrigals-book-4-11.tsv\n",
      "dataset/training/wir-monteverdi-madrigals-book-4-12.tsv\n",
      "dataset/training/wir-monteverdi-madrigals-book-5-4.tsv\n",
      "dataset/training/wir-monteverdi-madrigals-book-4-19.tsv\n",
      "dataset/training/wir-monteverdi-madrigals-book-4-13.tsv\n",
      "dataset/training/wir-monteverdi-madrigals-book-4-10.tsv\n",
      "dataset/training/wir-monteverdi-madrigals-book-5-8.tsv\n",
      "dataset/training/wir-monteverdi-madrigals-book-3-1.tsv\n",
      "dataset/training/wir-variations-and-grounds-bach-b-minor-mass-bwv232-crucifixus.tsv\n",
      "dataset/training/wir-variations-and-grounds-purcell-sonata-z807.tsv\n",
      "dataset/training/wir-variations-and-grounds-purcell-chacony-z730.tsv\n",
      "dataset/training/wir-orchestral-haydn-symphony-104-1.tsv\n"
     ]
    }
   ],
   "source": [
    "df = None\n",
    "for nickname in training.file:\n",
    "    tsvpath = os.path.join(\"dataset\", \"training\", f\"{nickname}.tsv\")\n",
    "    print(tsvpath)\n",
    "    dffile = pd.read_csv(tsvpath, sep=\"\\t\")\n",
    "    dffile = dffile[dffile.a_harmonicRhythm == 0]\n",
    "    if df is None:\n",
    "        df = dffile\n",
    "    else:\n",
    "        df = pd.concat([df, dffile], ignore_index=True)"
   ]
  },
  {
   "cell_type": "code",
   "execution_count": 7,
   "metadata": {},
   "outputs": [
    {
     "data": {
      "text/html": [
       "<div>\n",
       "<style scoped>\n",
       "    .dataframe tbody tr th:only-of-type {\n",
       "        vertical-align: middle;\n",
       "    }\n",
       "\n",
       "    .dataframe tbody tr th {\n",
       "        vertical-align: top;\n",
       "    }\n",
       "\n",
       "    .dataframe thead th {\n",
       "        text-align: right;\n",
       "    }\n",
       "</style>\n",
       "<table border=\"1\" class=\"dataframe\">\n",
       "  <thead>\n",
       "    <tr style=\"text-align: right;\">\n",
       "      <th></th>\n",
       "      <th>j_offset</th>\n",
       "      <th>s_duration</th>\n",
       "      <th>s_measure</th>\n",
       "      <th>s_notes</th>\n",
       "      <th>s_intervals</th>\n",
       "      <th>s_isOnset</th>\n",
       "      <th>a_measure</th>\n",
       "      <th>a_duration</th>\n",
       "      <th>a_annotationNumber</th>\n",
       "      <th>a_romanNumeral</th>\n",
       "      <th>...</th>\n",
       "      <th>a_localKey</th>\n",
       "      <th>a_tonicizedKey</th>\n",
       "      <th>a_degree1</th>\n",
       "      <th>a_degree2</th>\n",
       "      <th>measureMisalignment</th>\n",
       "      <th>qualityScoreNotes</th>\n",
       "      <th>qualityNonChordTones</th>\n",
       "      <th>qualityMissingChordTones</th>\n",
       "      <th>qualitySquaredSum</th>\n",
       "      <th>incongruentBass</th>\n",
       "    </tr>\n",
       "  </thead>\n",
       "  <tbody>\n",
       "  </tbody>\n",
       "</table>\n",
       "<p>0 rows × 30 columns</p>\n",
       "</div>"
      ],
      "text/plain": [
       "Empty DataFrame\n",
       "Columns: [j_offset, s_duration, s_measure, s_notes, s_intervals, s_isOnset, a_measure, a_duration, a_annotationNumber, a_romanNumeral, a_harmonicRhythm, a_pitchNames, a_bass, a_tenor, a_alto, a_soprano, a_root, a_inversion, a_quality, a_pcset, a_localKey, a_tonicizedKey, a_degree1, a_degree2, measureMisalignment, qualityScoreNotes, qualityNonChordTones, qualityMissingChordTones, qualitySquaredSum, incongruentBass]\n",
       "Index: []\n",
       "\n",
       "[0 rows x 30 columns]"
      ]
     },
     "execution_count": 7,
     "metadata": {},
     "output_type": "execute_result"
    }
   ],
   "source": [
    "df[(df.a_romanNumeral == \"N\") & (df.a_pcset == (1, 5, 8))]"
   ]
  },
  {
   "cell_type": "code",
   "execution_count": 8,
   "metadata": {},
   "outputs": [
    {
     "data": {
      "text/html": [
       "<div>\n",
       "<style scoped>\n",
       "    .dataframe tbody tr th:only-of-type {\n",
       "        vertical-align: middle;\n",
       "    }\n",
       "\n",
       "    .dataframe tbody tr th {\n",
       "        vertical-align: top;\n",
       "    }\n",
       "\n",
       "    .dataframe thead th {\n",
       "        text-align: right;\n",
       "    }\n",
       "</style>\n",
       "<table border=\"1\" class=\"dataframe\">\n",
       "  <thead>\n",
       "    <tr style=\"text-align: right;\">\n",
       "      <th></th>\n",
       "      <th>Roman numeral</th>\n",
       "      <th>Counts</th>\n",
       "    </tr>\n",
       "  </thead>\n",
       "  <tbody>\n",
       "    <tr>\n",
       "      <th>18</th>\n",
       "      <td>N</td>\n",
       "      <td>235</td>\n",
       "    </tr>\n",
       "  </tbody>\n",
       "</table>\n",
       "</div>"
      ],
      "text/plain": [
       "   Roman numeral  Counts\n",
       "18             N     235"
      ]
     },
     "execution_count": 8,
     "metadata": {},
     "output_type": "execute_result"
    },
    {
     "data": {
      "image/png": "[encoded data removed]",
      "text/plain": [
       "<Figure size 432x288 with 1 Axes>"
      ]
     },
     "metadata": {
      "needs_background": "light"
     },
     "output_type": "display_data"
    }
   ],
   "source": [
    "# roman numerals\n",
    "rncounts = df.a_romanNumeral.value_counts().to_dict()\n",
    "dfrn = pd.DataFrame({\"Roman numeral\": list(rncounts.keys()), \"Counts\": list(rncounts.values())})\n",
    "sns.barplot(x=\"Roman numeral\", y=\"Counts\", data=dfrn)\n",
    "dfrn[dfrn[\"Roman numeral\"] == \"N\"]"
   ]
  },
  {
   "cell_type": "code",
   "execution_count": 20,
   "metadata": {},
   "outputs": [
    {
     "name": "stdout",
     "output_type": "stream",
     "text": [
      "Bass\n"
     ]
    },
    {
     "data": {
      "image/png": "[encoded data removed]",
      "text/plain": [
       "<Figure size 720x360 with 1 Axes>"
      ]
     },
     "metadata": {
      "needs_background": "light"
     },
     "output_type": "display_data"
    },
    {
     "name": "stdout",
     "output_type": "stream",
     "text": [
      "Tenor\n"
     ]
    },
    {
     "data": {
      "image/png": "[encoded data removed]",
      "text/plain": [
       "<Figure size 720x360 with 1 Axes>"
      ]
     },
     "metadata": {
      "needs_background": "light"
     },
     "output_type": "display_data"
    },
    {
     "name": "stdout",
     "output_type": "stream",
     "text": [
      "Alto\n"
     ]
    },
    {
     "data": {
      "image/png": "[encoded data removed]",
      "text/plain": [
       "<Figure size 720x360 with 1 Axes>"
      ]
     },
     "metadata": {
      "needs_background": "light"
     },
     "output_type": "display_data"
    },
    {
     "name": "stdout",
     "output_type": "stream",
     "text": [
      "Soprano\n"
     ]
    },
    {
     "data": {
      "image/png": "[encoded data removed]",
      "text/plain": [
       "<Figure size 720x360 with 1 Axes>"
      ]
     },
     "metadata": {
      "needs_background": "light"
     },
     "output_type": "display_data"
    },
    {
     "name": "stdout",
     "output_type": "stream",
     "text": [
      "Quality\n"
     ]
    },
    {
     "data": {
      "image/png": "[encoded data removed]",
      "text/plain": [
       "<Figure size 720x360 with 1 Axes>"
      ]
     },
     "metadata": {
      "needs_background": "light"
     },
     "output_type": "display_data"
    },
    {
     "name": "stdout",
     "output_type": "stream",
     "text": [
      "Root\n"
     ]
    },
    {
     "data": {
      "image/png": "[encoded data removed]",
      "text/plain": [
       "<Figure size 720x360 with 1 Axes>"
      ]
     },
     "metadata": {
      "needs_background": "light"
     },
     "output_type": "display_data"
    }
   ],
   "source": [
    "# note distribution\n",
    "for voice in [\"Bass\", \"Tenor\", \"Alto\", \"Soprano\", \"Quality\", \"Root\"]:\n",
    "    print(voice)\n",
    "    notecounts = df[f\"a_{voice.lower()}\"].value_counts().to_dict()\n",
    "    dfbass = pd.DataFrame({voice: list(notecounts.keys()), \"Counts\": list(notecounts.values())})\n",
    "    sns.barplot(x=voice, y=\"Counts\", data=dfbass)\n",
    "    plt.show()"
   ]
  },
  {
   "cell_type": "code",
   "execution_count": null,
   "metadata": {},
   "outputs": [],
   "source": [
    "# pcsets\n",
    "rncounts = df.a_pcset.value_counts().to_dict()\n",
    "dfrn = pd.DataFrame({\"Roman numeral\": list(rncounts.keys()), \"Counts\": list(rncounts.values())})\n",
    "sns.barplot(x=\"Roman numeral\", y=\"Counts\", data=dfrn)"
   ]
  }
 ],
 "metadata": {
  "kernelspec": {
   "display_name": "Python 3.8.10 ('.env': venv)",
   "language": "python",
   "name": "python3"
  },
  "language_info": {
   "codemirror_mode": {
    "name": "ipython",
    "version": 3
   },
   "file_extension": ".py",
   "mimetype": "text/x-python",
   "name": "python",
   "nbconvert_exporter": "python",
   "pygments_lexer": "ipython3",
   "version": "3.8.10"
  },
  "orig_nbformat": 4,
  "vscode": {
   "interpreter": {
    "hash": "a52a358eae3e51af662b02193f9bc7647da22fcd152427ee064e67420f0b729e"
   }
  }
 },
 "nbformat": 4,
 "nbformat_minor": 2
}
