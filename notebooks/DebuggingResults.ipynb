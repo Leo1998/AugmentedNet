{
 "cells": [
  {
   "cell_type": "code",
   "execution_count": 1,
   "id": "green-retrieval",
   "metadata": {},
   "outputs": [],
   "source": [
    "import sys; sys.path.insert(0, \"..\")\n",
    "import pandas as pd\n",
    "import seaborn as sns\n",
    "import matplotlib.pyplot as plt\n",
    "plt.rcParams['figure.figsize'] = [20, 10]"
   ]
  },
  {
   "cell_type": "code",
   "execution_count": 2,
   "id": "seven-receipt",
   "metadata": {},
   "outputs": [],
   "source": [
    "sixtsynth = \".results/testset/noadditionaltasksnolrscheduling-210706T131126/80-3.650-0.8059/results.csv\"\n",
    "sixt = \".results/testset/bpsbps_6t_nosynth-210706T134716/77-3.863-0.7963/results.csv\""
   ]
  },
  {
   "cell_type": "code",
   "execution_count": 3,
   "id": "reverse-maximum",
   "metadata": {},
   "outputs": [],
   "source": [
    "df6t = pd.read_csv(sixt)\n",
    "df6tsynth = pd.read_csv(sixtsynth)"
   ]
  },
  {
   "cell_type": "code",
   "execution_count": 4,
   "id": "loose-spell",
   "metadata": {},
   "outputs": [],
   "source": [
    "metrics = ['LocalKey38', 'PrimaryDegree22', 'SecondaryDegree22', 'ChordQuality15', 'Inversion4', 'ChordRoot35']\n",
    "df6t[\"simultaneousCorrect\"] = 0\n",
    "df6tsynth[\"simultaneousCorrect\"] = 0\n",
    "for metric in metrics:\n",
    "    df6t[\"simultaneousCorrect\"] += df6t[metric].astype(int)\n",
    "    df6tsynth[\"simultaneousCorrect\"] += df6tsynth[metric].astype(int)"
   ]
  },
  {
   "cell_type": "code",
   "execution_count": 5,
   "id": "pressed-estimate",
   "metadata": {},
   "outputs": [
    {
     "name": "stdout",
     "output_type": "stream",
     "text": [
      "LocalKey38 - 6t: 0.978, 6tsynth: 0.9\n",
      "PrimaryDegree22 - 6t: 0.697, 6tsynth: 0.746\n",
      "SecondaryDegree22 - 6t: 0.948, 6tsynth: 0.938\n",
      "ChordQuality15 - 6t: 0.672, 6tsynth: 0.726\n",
      "Inversion4 - 6t: 0.656, 6tsynth: 0.682\n",
      "ChordRoot35 - 6t: 0.796, 6tsynth: 0.843\n"
     ]
    }
   ],
   "source": [
    "# metrics = ['LocalKey38', 'Degree', 'ChordQuality15', 'Inversion4', 'ChordRoot35', 'RomanNumeral']\n",
    "samples = 2000\n",
    "for metric in metrics:\n",
    "    print(f\"{metric} - 6t: {df6t[metric][:samples].mean().round(3)}, 6tsynth: {df6tsynth[metric][:samples].mean().round(3)}\")"
   ]
  },
  {
   "cell_type": "code",
   "execution_count": 6,
   "id": "upset-daughter",
   "metadata": {},
   "outputs": [
    {
     "name": "stdout",
     "output_type": "stream",
     "text": [
      "df6t\n",
      "0 simulteaneous: 212 (0.4)\n",
      "1 simulteaneous: 817 (1.6)\n",
      "2 simulteaneous: 3521 (6.7)\n",
      "3 simulteaneous: 5369 (10.2)\n",
      "4 simulteaneous: 8466 (16.1)\n",
      "5 simulteaneous: 11665 (22.2)\n",
      "6 simulteaneous: 22430 (42.699999999999996)\n",
      "7 simulteaneous: 0 (0.0)\n",
      "df6tsynth\n",
      "0 simulteaneous: 121 (0.2)\n",
      "1 simulteaneous: 886 (1.7000000000000002)\n",
      "2 simulteaneous: 2644 (5.0)\n",
      "3 simulteaneous: 4834 (9.2)\n",
      "4 simulteaneous: 9053 (17.299999999999997)\n",
      "5 simulteaneous: 12785 (24.4)\n",
      "6 simulteaneous: 22157 (42.199999999999996)\n",
      "7 simulteaneous: 0 (0.0)\n"
     ]
    }
   ],
   "source": [
    "for name, model in [('df6t', df6t), ('df6tsynth', df6tsynth)]:\n",
    "    print(name)\n",
    "#     sns.lineplot(data=model.simultaneousCorrect[:samples])\n",
    "    for i in range(0, 8):\n",
    "        print(f\"{i} simulteaneous: {(model.simultaneousCorrect == i).sum()} ({(model.simultaneousCorrect == i).mean().round(3) * 100.0})\")"
   ]
  },
  {
   "cell_type": "code",
   "execution_count": null,
   "id": "unsigned-rings",
   "metadata": {},
   "outputs": [],
   "source": []
  }
 ],
 "metadata": {
  "kernelspec": {
   "display_name": "Python 3",
   "language": "python",
   "name": "python3"
  },
  "language_info": {
   "codemirror_mode": {
    "name": "ipython",
    "version": 3
   },
   "file_extension": ".py",
   "mimetype": "text/x-python",
   "name": "python",
   "nbconvert_exporter": "python",
   "pygments_lexer": "ipython3",
   "version": "3.8.10"
  }
 },
 "nbformat": 4,
 "nbformat_minor": 5
}
