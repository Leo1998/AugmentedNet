{
 "cells": [
  {
   "cell_type": "code",
   "execution_count": 1,
   "metadata": {},
   "outputs": [
    {
     "name": "stdout",
     "output_type": "stream",
     "text": [
      "/home/napulen/AugmentedNet\n"
     ]
    }
   ],
   "source": [
    "%cd ../../"
   ]
  },
  {
   "cell_type": "code",
   "execution_count": 2,
   "metadata": {},
   "outputs": [],
   "source": [
    "import matplotlib.pyplot as plt"
   ]
  },
  {
   "cell_type": "code",
   "execution_count": 8,
   "metadata": {},
   "outputs": [],
   "source": [
    "allkeys = [\"B--\", \"g-\", \"F-\", \"d-\", \"C-\", \"a-\", \"G-\", \"e-\", \"D-\", \"b-\", \"A-\", \"f\", \"E-\", \"c\", \"B-\", \"g\", \"F\", \"d\", \"C\"] + [\n",
    "    \"a\", \"G\", \"e\", \"D\", \"b\", \"A\", \"f#\", \"E\", \"c#\", \"B\", \"g#\", \"F#\", \"d#\", \"C#\", \"a#\", \"G#\", \"e#\", \"D#\", \"b#\"]\n",
    "major = [k for k in allkeys if not k.islower()]\n",
    "minor = [k for k in allkeys if k.islower()]\n"
   ]
  },
  {
   "cell_type": "code",
   "execution_count": 15,
   "metadata": {},
   "outputs": [
    {
     "data": {
      "text/plain": [
       "(0.0, 0.05500000000000001)"
      ]
     },
     "execution_count": 15,
     "metadata": {},
     "output_type": "execute_result"
    },
    {
     "data": {
      "image/png": "[encoded data removed]",
      "text/plain": [
       "<Figure size 432x288 with 1 Axes>"
      ]
     },
     "metadata": {
      "needs_background": "light"
     },
     "output_type": "display_data"
    }
   ],
   "source": []
  },
  {
   "cell_type": "code",
   "execution_count": null,
   "metadata": {},
   "outputs": [],
   "source": []
  }
 ],
 "metadata": {
  "kernelspec": {
   "display_name": "Python 3.8.10 ('.env': venv)",
   "language": "python",
   "name": "python3"
  },
  "language_info": {
   "codemirror_mode": {
    "name": "ipython",
    "version": 3
   },
   "file_extension": ".py",
   "mimetype": "text/x-python",
   "name": "python",
   "nbconvert_exporter": "python",
   "pygments_lexer": "ipython3",
   "version": "3.8.10"
  },
  "orig_nbformat": 4,
  "vscode": {
   "interpreter": {
    "hash": "a52a358eae3e51af662b02193f9bc7647da22fcd152427ee064e67420f0b729e"
   }
  }
 },
 "nbformat": 4,
 "nbformat_minor": 2
}
