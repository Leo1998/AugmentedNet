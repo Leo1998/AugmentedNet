{
 "cells": [
  {
   "cell_type": "code",
   "execution_count": 1,
   "metadata": {},
   "outputs": [
    {
     "name": "stdout",
     "output_type": "stream",
     "text": [
      "/home/napulen/AugmentedNet\n"
     ]
    }
   ],
   "source": [
    "%cd ../.."
   ]
  },
  {
   "cell_type": "code",
   "execution_count": 2,
   "metadata": {},
   "outputs": [],
   "source": [
    "import os\n",
    "\n",
    "import matplotlib.pyplot as plt\n",
    "from matplotlib_venn import venn2\n",
    "from matplotlib.font_manager import FontProperties\n",
    "import pandas as pd\n",
    "import seaborn as sns\n",
    "\n",
    "from AugmentedNet.data import available_collections\n",
    "from AugmentedNet.chord_vocabulary import frompcset\n",
    "from AugmentedNet.feature_representation import COMMON_ROMAN_NUMERALS, KEYS"
   ]
  },
  {
   "cell_type": "code",
   "execution_count": 3,
   "metadata": {},
   "outputs": [],
   "source": [
    "summary = \"dataset/dataset_summary.tsv\"\n",
    "dfsummary = pd.read_csv(summary, sep=\"\\t\")"
   ]
  },
  {
   "cell_type": "code",
   "execution_count": 4,
   "metadata": {},
   "outputs": [],
   "source": [
    "dataset = (\"abc\",) #\"bps\", \"haydnsun\", \"keymodt\", \"mps\", \"tavern\", \"wir\", \"wirwtc\")\n",
    "otherdatasets = tuple([x for x in available_collections if x not in dataset])\n",
    "\n",
    "fdataset = {\n",
    "    (\"abc\",): \"ABC\",\n",
    "    (\"bps\",): \"BPS\",\n",
    "    (\"haydnsun\",): \"HaydnSun\",\n",
    "    (\"keymodt\",): \"KMT\",\n",
    "    (\"mps\",): \"MPS\",\n",
    "    (\"tavern\",): \"TAVERN\",\n",
    "    (\"wir\", \"wirwtc\"): \"WiR\",\n",
    "    (\"abc\", \"bps\", \"haydnsun\", \"keymodt\", \"mps\", \"tavern\", \"wir\", \"wirwtc\"): \"Aggregated\"\n",
    "}"
   ]
  },
  {
   "cell_type": "code",
   "execution_count": 5,
   "metadata": {},
   "outputs": [],
   "source": [
    "datasetdf = dfsummary[dfsummary.collection.isin(dataset)]\n",
    "othersdf = dfsummary[dfsummary.collection.isin(otherdatasets)]\n"
   ]
  },
  {
   "cell_type": "code",
   "execution_count": 6,
   "metadata": {},
   "outputs": [
    {
     "name": "stdout",
     "output_type": "stream",
     "text": [
      "dataset/training/abc-op131-3.tsv\n",
      "dataset/training/abc-op95-4.tsv\n",
      "dataset/training/abc-op132-2.tsv\n",
      "dataset/training/abc-op95-2.tsv\n",
      "dataset/training/abc-op130-1.tsv\n",
      "dataset/training/abc-op95-1.tsv\n",
      "dataset/training/abc-op127-3.tsv\n",
      "dataset/training/abc-op18-no6-2.tsv\n",
      "dataset/training/abc-op127-4.tsv\n",
      "dataset/training/abc-op130-2.tsv\n",
      "dataset/training/abc-op18-no5-3.tsv\n",
      "dataset/training/abc-op59-no1-2.tsv\n",
      "dataset/training/abc-op59-no1-3.tsv\n",
      "dataset/training/abc-op18-no4-4.tsv\n",
      "dataset/training/abc-op18-no5-1.tsv\n",
      "dataset/training/abc-op132-1.tsv\n",
      "dataset/training/abc-op74-2.tsv\n",
      "dataset/training/abc-op18-no5-2.tsv\n",
      "dataset/training/abc-op127-1.tsv\n",
      "dataset/training/abc-op18-no3-2.tsv\n",
      "dataset/training/abc-op18-no2-4.tsv\n",
      "dataset/training/abc-op131-6.tsv\n",
      "dataset/training/abc-op135-4.tsv\n",
      "dataset/training/abc-op135-3.tsv\n",
      "dataset/training/abc-op18-no2-3.tsv\n",
      "dataset/training/abc-op18-no6-4.tsv\n",
      "dataset/training/abc-op59-no3-2.tsv\n",
      "dataset/training/abc-op59-no3-4.tsv\n",
      "dataset/training/abc-op59-no2-1.tsv\n",
      "dataset/training/abc-op18-no3-4.tsv\n",
      "dataset/training/abc-op18-no4-1.tsv\n",
      "dataset/training/abc-op131-7.tsv\n",
      "dataset/training/abc-op18-no2-2.tsv\n",
      "dataset/training/abc-op130-6.tsv\n",
      "dataset/training/abc-op130-5.tsv\n",
      "dataset/training/abc-op18-no4-3.tsv\n",
      "dataset/training/abc-op18-no3-1.tsv\n",
      "dataset/training/abc-op59-no2-2.tsv\n",
      "dataset/training/abc-op59-no2-4.tsv\n",
      "dataset/training/abc-op18-no4-2.tsv\n",
      "dataset/training/abc-op135-1.tsv\n",
      "dataset/training/abc-op18-no1-4.tsv\n",
      "dataset/training/abc-op132-4.tsv\n",
      "dataset/training/abc-op18-no5-4.tsv\n",
      "dataset/training/abc-op130-4.tsv\n",
      "dataset/training/abc-op131-2.tsv\n",
      "dataset/training/abc-op74-1.tsv\n",
      "dataset/training/abc-op132-3.tsv\n",
      "dataset/training/abc-op130-3.tsv\n",
      "dataset/training/abc-op131-5.tsv\n",
      "dataset/validation/abc-op131-1.tsv\n",
      "dataset/validation/abc-op59-no3-1.tsv\n",
      "dataset/validation/abc-op59-no1-4.tsv\n",
      "dataset/validation/abc-op18-no1-2.tsv\n",
      "dataset/validation/abc-op18-no2-1.tsv\n",
      "dataset/validation/abc-op131-4.tsv\n",
      "dataset/validation/abc-op132-5.tsv\n",
      "dataset/validation/abc-op18-no6-1.tsv\n",
      "dataset/validation/abc-op59-no3-3.tsv\n",
      "dataset/validation/abc-op18-no3-3.tsv\n",
      "dataset/test/abc-op74-3.tsv\n",
      "dataset/test/abc-op127-2.tsv\n",
      "dataset/test/abc-op95-3.tsv\n",
      "dataset/test/abc-op18-no6-3.tsv\n",
      "dataset/test/abc-op59-no1-1.tsv\n",
      "dataset/test/abc-op18-no1-3.tsv\n",
      "dataset/test/abc-op135-2.tsv\n",
      "dataset/test/abc-op59-no2-3.tsv\n",
      "dataset/test/abc-op18-no1-1.tsv\n",
      "dataset/test/abc-op74-4.tsv\n"
     ]
    }
   ],
   "source": [
    "df = None\n",
    "for row in datasetdf.itertuples():\n",
    "    tsvpath = os.path.join(\"dataset\", row.split, f\"{row.file}.tsv\")\n",
    "    print(tsvpath)\n",
    "    dffile = pd.read_csv(tsvpath, sep=\"\\t\")\n",
    "    dffile = dffile[dffile.a_harmonicRhythm == 0]\n",
    "    dffile[\"file\"] = row.file\n",
    "    if df is None:\n",
    "        df = dffile\n",
    "    else:\n",
    "        df = pd.concat([df, dffile], ignore_index=True)\n",
    "\n",
    "# dfothers = None\n",
    "# for row in othersdf.itertuples():\n",
    "#     tsvpath = os.path.join(\"dataset\", row.split, f\"{row.file}.tsv\")\n",
    "#     print(tsvpath)\n",
    "#     dffile = pd.read_csv(tsvpath, sep=\"\\t\")\n",
    "#     dffile = dffile[dffile.a_harmonicRhythm == 0]\n",
    "#     dffile[\"file\"] = row.file\n",
    "#     if dfothers is None:\n",
    "#         dfothers = dffile\n",
    "#     else:\n",
    "#         dfothers = pd.concat([dfothers, dffile], ignore_index=True)"
   ]
  },
  {
   "cell_type": "code",
   "execution_count": null,
   "metadata": {},
   "outputs": [],
   "source": []
  },
  {
   "cell_type": "code",
   "execution_count": 7,
   "metadata": {},
   "outputs": [
    {
     "name": "stdout",
     "output_type": "stream",
     "text": [
      "Duration in quarter notes: 48034.0\n",
      "Measures: 15746.0\n",
      "Chord annotations: 29427\n",
      "Average harmonic rhythm: 1.63\n"
     ]
    }
   ],
   "source": [
    "measures = 0\n",
    "for f in df.file.unique():\n",
    "    measures += df[df.file == f].a_measure.max()\n",
    "\n",
    "print(\"Duration in quarter notes:\", df.a_duration.sum().round())\n",
    "print(\"Measures:\", measures)\n",
    "print(\"Chord annotations:\", len(df.index))\n",
    "print(\"Average harmonic rhythm:\", df.a_duration.mean().round(2))"
   ]
  },
  {
   "cell_type": "code",
   "execution_count": 8,
   "metadata": {},
   "outputs": [],
   "source": [
    "def aggregate_wir(filename):\n",
    "    if \"openscore\" in filename:\n",
    "        return \"wir-openscore\"\n",
    "    elif \"wirwtc\" in filename:\n",
    "        return \"wir-bach-wtc\"\n",
    "    elif \"variations\" in filename:\n",
    "        return \"wir-variations\"\n",
    "    elif \"madrigals\" in filename:\n",
    "        return \"wir-madrigals\"\n",
    "    elif \"chorales\" in filename:\n",
    "        return \"wir-bach-chorales\"\n",
    "    elif \"orchestral\" in filename:\n",
    "        return \"wir-orchestral\"\n",
    "\n",
    "if dataset == [\"wir\", \"wirwtc\"]:\n",
    "    df[\"file\"] = df[\"file\"].apply(aggregate_wir)\n",
    "elif dataset == [\"keymodt\"]:\n",
    "    df[\"file\"] = df[\"file\"].apply(lambda x: \"-\".join(x.split(\"-\")[:2]))"
   ]
  },
  {
   "cell_type": "code",
   "execution_count": 9,
   "metadata": {},
   "outputs": [],
   "source": [
    "order = df.a_inversion.value_counts(ascending=True).index"
   ]
  },
  {
   "cell_type": "code",
   "execution_count": 10,
   "metadata": {},
   "outputs": [
    {
     "name": "stdout",
     "output_type": "stream",
     "text": [
      "{3.0: 2, 2.0: 5, 1.0: 9, 0.0: 13}\n",
      "abc-op131-3\n",
      "{3.0: 13, 2.0: 50, 1.0: 67, 0.0: 213}\n",
      "abc-op95-4\n",
      "{3.0: 4, 2.0: 35, 1.0: 181, 0.0: 335}\n",
      "abc-op132-2\n",
      "{3.0: 31, 2.0: 70, 1.0: 75, 0.0: 189}\n",
      "abc-op95-2\n",
      "{3.0: 41, 2.0: 77, 1.0: 230, 0.0: 371}\n",
      "abc-op130-1\n",
      "{3.0: 3, 2.0: 32, 1.0: 49, 0.0: 172}\n",
      "abc-op95-1\n",
      "{3.0: 18, 2.0: 60, 1.0: 156, 0.0: 270}\n",
      "abc-op127-3\n",
      "{3.0: 13, 2.0: 26, 1.0: 95, 0.0: 135}\n",
      "abc-op18-no6-2\n",
      "{3.0: 51, 2.0: 108, 1.0: 191, 0.0: 365}\n",
      "abc-op127-4\n",
      "{3.0: 3, 2.0: 14, 1.0: 48, 0.0: 128}\n",
      "abc-op130-2\n",
      "{3.0: 9, 2.0: 22, 1.0: 54, 0.0: 176}\n",
      "abc-op18-no5-3\n",
      "{3.0: 18, 2.0: 40, 1.0: 86, 0.0: 351}\n",
      "abc-op59-no1-2\n",
      "{3.0: 18, 2.0: 54, 1.0: 96, 0.0: 194}\n",
      "abc-op59-no1-3\n",
      "{3.0: 13, 2.0: 52, 1.0: 99, 0.0: 251}\n",
      "abc-op18-no4-4\n",
      "{3.0: 26, 2.0: 48, 1.0: 117, 0.0: 251}\n",
      "abc-op18-no5-1\n",
      "{3.0: 21, 2.0: 99, 1.0: 166, 0.0: 308}\n",
      "abc-op132-1\n",
      "{2.0: 8, 3.0: 15, 1.0: 48, 0.0: 103}\n",
      "abc-op74-2\n",
      "{3.0: 13, 2.0: 22, 1.0: 35, 0.0: 111}\n",
      "abc-op18-no5-2\n",
      "{3.0: 43, 2.0: 122, 1.0: 185, 0.0: 223}\n",
      "abc-op127-1\n",
      "{3.0: 23, 2.0: 64, 1.0: 109, 0.0: 179}\n",
      "abc-op18-no3-2\n",
      "{3.0: 45, 2.0: 73, 1.0: 112, 0.0: 311}\n",
      "abc-op18-no2-4\n",
      "{2.0: 13, 1.0: 16, 0.0: 36}\n",
      "abc-op131-6\n",
      "{3.0: 46, 2.0: 91, 1.0: 181, 0.0: 289}\n",
      "abc-op135-4\n",
      "{3.0: 11, 2.0: 41, 1.0: 44, 0.0: 81}\n",
      "abc-op135-3\n",
      "{3.0: 6, 2.0: 14, 1.0: 29, 0.0: 97}\n",
      "abc-op18-no2-3\n",
      "{3.0: 31, 2.0: 52, 1.0: 150, 0.0: 259}\n",
      "abc-op18-no6-4\n",
      "{3.0: 39, 2.0: 86, 1.0: 92, 0.0: 263}\n",
      "abc-op59-no3-2\n",
      "{3.0: 56, 2.0: 78, 1.0: 217, 0.0: 404}\n",
      "abc-op59-no3-4\n",
      "{3.0: 25, 2.0: 88, 1.0: 127, 0.0: 251}\n",
      "abc-op59-no2-1\n",
      "{3.0: 31, 2.0: 58, 1.0: 216, 0.0: 334}\n",
      "abc-op18-no3-4\n",
      "{3.0: 29, 2.0: 80, 1.0: 168, 0.0: 312}\n",
      "abc-op18-no4-1\n",
      "{3.0: 40, 2.0: 113, 1.0: 138, 0.0: 284}\n",
      "abc-op131-7\n",
      "{3.0: 14, 2.0: 19, 1.0: 52, 0.0: 104}\n",
      "abc-op18-no2-2\n",
      "{3.0: 28, 2.0: 64, 1.0: 168, 0.0: 461}\n",
      "abc-op130-6\n",
      "{3.0: 11, 2.0: 27, 1.0: 55, 0.0: 83}\n",
      "abc-op130-5\n",
      "{3.0: 7, 2.0: 19, 1.0: 48, 0.0: 101}\n",
      "abc-op18-no4-3\n",
      "{3.0: 18, 2.0: 29, 1.0: 116, 0.0: 226}\n",
      "abc-op18-no3-1\n",
      "{3.0: 13, 2.0: 58, 1.0: 84, 0.0: 176}\n",
      "abc-op59-no2-2\n",
      "{3.0: 20, 2.0: 71, 1.0: 173, 0.0: 379}\n",
      "abc-op59-no2-4\n",
      "{3.0: 5, 2.0: 34, 1.0: 51, 0.0: 180}\n",
      "abc-op18-no4-2\n",
      "{3.0: 24, 2.0: 41, 1.0: 100, 0.0: 248}\n",
      "abc-op135-1\n",
      "{3.0: 38, 2.0: 65, 1.0: 166, 0.0: 380}\n",
      "abc-op18-no1-4\n",
      "{3.0: 5, 2.0: 17, 1.0: 33, 0.0: 63}\n",
      "abc-op132-4\n",
      "{3.0: 9, 2.0: 54, 1.0: 130, 0.0: 399}\n",
      "abc-op18-no5-4\n",
      "{3.0: 6, 2.0: 15, 1.0: 46, 0.0: 88}\n",
      "abc-op130-4\n",
      "{3.0: 20, 2.0: 51, 1.0: 86, 0.0: 206}\n",
      "abc-op131-2\n",
      "{3.0: 20, 2.0: 68, 1.0: 125, 0.0: 273}\n",
      "abc-op74-1\n",
      "{3.0: 9, 2.0: 78, 1.0: 143, 0.0: 314}\n",
      "abc-op132-3\n",
      "{3.0: 23, 2.0: 58, 1.0: 135, 0.0: 235}\n",
      "abc-op130-3\n",
      "{3.0: 39, 2.0: 129, 1.0: 164, 0.0: 400}\n",
      "abc-op131-5\n",
      "{3.0: 27, 2.0: 55, 1.0: 88, 0.0: 151}\n",
      "abc-op131-1\n",
      "{3.0: 21, 2.0: 90, 1.0: 156, 0.0: 294}\n",
      "abc-op59-no3-1\n",
      "{3.0: 27, 2.0: 84, 1.0: 185, 0.0: 362}\n",
      "abc-op59-no1-4\n",
      "{3.0: 10, 2.0: 15, 1.0: 86, 0.0: 132}\n",
      "abc-op18-no1-2\n",
      "{3.0: 25, 2.0: 56, 1.0: 148, 0.0: 255}\n",
      "abc-op18-no2-1\n",
      "{3.0: 44, 2.0: 117, 1.0: 180, 0.0: 363}\n",
      "abc-op131-4\n",
      "{3.0: 17, 2.0: 136, 1.0: 230, 0.0: 400}\n",
      "abc-op132-5\n",
      "{3.0: 20, 2.0: 49, 1.0: 123, 0.0: 226}\n",
      "abc-op18-no6-1\n",
      "{3.0: 8, 2.0: 29, 1.0: 40, 0.0: 109}\n",
      "abc-op59-no3-3\n",
      "{2.0: 18, 3.0: 21, 1.0: 103, 0.0: 150}\n",
      "abc-op18-no3-3\n",
      "{3.0: 24, 2.0: 53, 1.0: 73, 0.0: 410}\n",
      "abc-op74-3\n",
      "{3.0: 38, 2.0: 120, 1.0: 161, 0.0: 232}\n",
      "abc-op127-2\n",
      "{3.0: 18, 2.0: 57, 1.0: 96, 0.0: 212}\n",
      "abc-op95-3\n",
      "{3.0: 10, 2.0: 16, 1.0: 54, 0.0: 101}\n",
      "abc-op18-no6-3\n",
      "{3.0: 39, 2.0: 133, 1.0: 133, 0.0: 274}\n",
      "abc-op59-no1-1\n",
      "{3.0: 2, 2.0: 35, 1.0: 37, 0.0: 148}\n",
      "abc-op18-no1-3\n",
      "{3.0: 34, 2.0: 67, 1.0: 77, 0.0: 266}\n",
      "abc-op135-2\n",
      "{3.0: 12, 2.0: 36, 1.0: 62, 0.0: 170}\n",
      "abc-op59-no2-3\n",
      "{3.0: 13, 2.0: 62, 1.0: 120, 0.0: 256}\n",
      "abc-op18-no1-1\n",
      "{3.0: 15, 2.0: 22, 1.0: 100, 0.0: 215}\n",
      "abc-op74-4\n"
     ]
    }
   ],
   "source": [
    "qualities = {f\"Files in {dataset[0].upper()}\": [], \"Chord Quality\": [], \"Total Number of Chords\": []}\n",
    "for idx, f in enumerate(df.file.unique()):\n",
    "    dffile = df[df.file == f]\n",
    "    countsdf = dffile.a_inversion.value_counts(ascending=True)\n",
    "    d = countsdf.to_dict()\n",
    "    print(d)\n",
    "    totalcount = 0\n",
    "    print(f)\n",
    "    for q in order:\n",
    "        v = d.get(q, 0)\n",
    "        totalcount += v\n",
    "        qualities[f\"Files in {dataset[0].upper()}\"].append(f.split(\"-\", 1)[1])\n",
    "        qualities[\"Chord Quality\"].append(q)\n",
    "        qualities[\"Total Number of Chords\"].append(v)\n",
    "qualitiesdf = pd.DataFrame(qualities)"
   ]
  },
  {
   "cell_type": "code",
   "execution_count": 11,
   "metadata": {},
   "outputs": [
    {
     "data": {
      "text/html": [
       "<div>\n",
       "<style scoped>\n",
       "    .dataframe tbody tr th:only-of-type {\n",
       "        vertical-align: middle;\n",
       "    }\n",
       "\n",
       "    .dataframe tbody tr th {\n",
       "        vertical-align: top;\n",
       "    }\n",
       "\n",
       "    .dataframe thead th {\n",
       "        text-align: right;\n",
       "    }\n",
       "</style>\n",
       "<table border=\"1\" class=\"dataframe\">\n",
       "  <thead>\n",
       "    <tr style=\"text-align: right;\">\n",
       "      <th></th>\n",
       "      <th>Files in ABC</th>\n",
       "      <th>Chord Quality</th>\n",
       "      <th>Total Number of Chords</th>\n",
       "    </tr>\n",
       "  </thead>\n",
       "  <tbody>\n",
       "  </tbody>\n",
       "</table>\n",
       "</div>"
      ],
      "text/plain": [
       "Empty DataFrame\n",
       "Columns: [Files in ABC, Chord Quality, Total Number of Chords]\n",
       "Index: []"
      ]
     },
     "execution_count": 11,
     "metadata": {},
     "output_type": "execute_result"
    }
   ],
   "source": [
    "qualitiesdf[qualitiesdf[f\"Files in {dataset[0].upper()}\"] == 0]"
   ]
  },
  {
   "cell_type": "code",
   "execution_count": 12,
   "metadata": {},
   "outputs": [
    {
     "data": {
      "image/png": "[encoded data removed]",
      "text/plain": [
       "<Figure size 1440x720 with 1 Axes>"
      ]
     },
     "metadata": {
      "needs_background": "light"
     },
     "output_type": "display_data"
    }
   ],
   "source": [
    "# font = {'family' : 'normal',\n",
    "#         'size'   : 18}\n",
    "plt.rcParams[\"figure.figsize\"] = (20, 10)\n",
    "# plt.rc('font', **font)\n",
    "sns.barplot(x=f\"Files in {dataset[0].upper()}\", y=\"Total Number of Chords\", hue=\"Chord Quality\", dodge=False, palette=sns.color_palette(\"deep\", n_colors=10), hue_order=reversed(order), data=qualitiesdf)\n",
    "plt.yscale(\"log\")\n",
    "plt.xticks(rotation=90)\n",
    "# plt.tight_layout()\n",
    "plt.legend(loc=(1.01, 0))\n",
    "plt.show()"
   ]
  },
  {
   "cell_type": "code",
   "execution_count": 13,
   "metadata": {},
   "outputs": [],
   "source": [
    "rns = {\n",
    "    'I': 'major',\n",
    "    'i': 'minor',\n",
    "    'Cad': 'both',\n",
    "    'ii': 'major',\n",
    "    'iio': 'minor',\n",
    "    'N': 'both',\n",
    "    'iii': 'major',\n",
    "    'III+': 'minor',\n",
    "    'IV': 'major',\n",
    "    'iv': 'minor',\n",
    "    'It': 'both',\n",
    "    'Fr7': 'both',\n",
    "    'Ger7': 'both',\n",
    "    'V': 'both',\n",
    "    'V+': 'major',\n",
    "    'vi': 'major',\n",
    "    'VI': 'minor',\n",
    "    'viio': 'both',\n",
    "    'I7': 'major',\n",
    "    'i7': 'minor',\n",
    "    'ii7': 'major',\n",
    "    'iiø7': \"minor\",\n",
    "    'iii7': 'major',\n",
    "    'III+7': 'minor',\n",
    "    'IV7': 'major',\n",
    "    'iv7': 'minor',\n",
    "    'V7': 'both',\n",
    "    'vi7': 'major',\n",
    "    'VI7': 'minor',\n",
    "    'viiø7': \"major\",\n",
    "    'viio7': 'minor',\n",
    "}"
   ]
  },
  {
   "cell_type": "code",
   "execution_count": 14,
   "metadata": {},
   "outputs": [],
   "source": [
    "invlabels = {0.0: \"Root position\", 1.0: \"First\", 2.0: \"Second\", 3.0: \"Third\"}\n",
    "rnsinv = {f\"rn\": [], \"inversion\": [], \"counts\": []}\n",
    "for inv in [0.0, 1.0, 2.0, 3.0]:\n",
    "    invdf = df[df.a_inversion == inv]\n",
    "    countsrn = invdf.a_romanNumeral.value_counts().to_dict()\n",
    "    for rn in rns:\n",
    "        counts = countsrn.get(rn, 0)\n",
    "        rnsinv[\"rn\"].append(rn)\n",
    "        rnsinv[\"inversion\"].append(invlabels[inv])\n",
    "        rnsinv[\"counts\"].append(counts)\n",
    "rnsinvdf = pd.DataFrame(rnsinv)"
   ]
  },
  {
   "cell_type": "code",
   "execution_count": 31,
   "metadata": {},
   "outputs": [
    {
     "data": {
      "image/png": "[encoded data removed]",
      "text/plain": [
       "<Figure size 1080x432 with 1 Axes>"
      ]
     },
     "metadata": {
      "needs_background": "light"
     },
     "output_type": "display_data"
    }
   ],
   "source": [
    "# font = {'family': 'sans', 'size': 14, \"weight\": \"bold\"}\n",
    "plt.rcParams[\"figure.figsize\"] = (15, 6)\n",
    "# plt.rc('font', **font)\n",
    "# sns.barplot(x=\"rn\", y=\"counts\", dodge=False, hue=\"inversion\", palette=\"rocket\", saturation=0.7, data=rnsinvdf)\n",
    "g = sns.barplot(x=\"rn\", y=\"counts\", dodge=True, hue=\"inversion\", palette=\"colorblind\", data=rnsinvdf)\n",
    "h,l = g.get_legend_handles_labels()\n",
    "plt.legend(h[:4], l[:4], loc=\"upper right\", fontsize=\"large\", framealpha=0.25, title=\"Inversion\", title_fontproperties={\"weight\": \"bold\"})\n",
    "plt.xlabel(f\"Roman Numerals in the {fdataset[dataset]} Dataset\", fontsize=\"xx-large\", fontweight=\"bold\")\n",
    "plt.xticks(rotation=45, fontfamily=\"monospace\", fontsize=\"x-large\", fontweight=\"bold\")\n",
    "plt.ylabel(\"Total counts (log scale)\", fontsize=\"xx-large\", fontweight=\"bold\")\n",
    "plt.yscale(\"log\")\n",
    "plt.yticks(fontsize=\"x-large\")\n",
    "plt.tight_layout()\n",
    "plt.savefig(f\"{fdataset[dataset].lower()}_rn_inversion.png\")"
   ]
  },
  {
   "cell_type": "code",
   "execution_count": 16,
   "metadata": {},
   "outputs": [
    {
     "data": {
      "image/png": "[encoded data removed]",
      "text/plain": [
       "<Figure size 1080x360 with 1 Axes>"
      ]
     },
     "metadata": {
      "needs_background": "light"
     },
     "output_type": "display_data"
    }
   ],
   "source": [
    "rns = {\n",
    "    'I': 'major',\n",
    "    'i': 'minor',\n",
    "    'Cad': 'both',\n",
    "    'ii': 'major',\n",
    "    'iio': 'minor',\n",
    "    'N': 'both',\n",
    "    'iii': 'major',\n",
    "    'III+': 'minor',\n",
    "    'IV': 'major',\n",
    "    'iv': 'minor',\n",
    "    'It': 'both',\n",
    "    'Fr7': 'both',\n",
    "    'Ger7': 'both',\n",
    "    'V': 'both',\n",
    "    'V+': 'major',\n",
    "    'vi': 'major',\n",
    "    'VI': 'minor',\n",
    "    'viio': 'both',\n",
    "    'I7': 'major',\n",
    "    'i7': 'minor',\n",
    "    'ii7': 'major',\n",
    "    'iiø7': \"minor\",\n",
    "    'iii7': 'major',\n",
    "    'III+7': 'minor',\n",
    "    'IV7': 'major',\n",
    "    'iv7': 'minor',\n",
    "    'V7': 'both',\n",
    "    'vi7': 'major',\n",
    "    'VI7': 'minor',\n",
    "    'viiø7': \"major\",\n",
    "    'viio7': 'minor',\n",
    "}\n",
    "\n",
    "rnsdict = {\"Roman numeral\": [], \"Counts\": [], \"Category\": []}\n",
    "\n",
    "rndict = df.a_romanNumeral.value_counts().to_dict()\n",
    "for rn in rns:\n",
    "    counts = rndict.get(rn, 0)\n",
    "    rnsdict[\"Roman numeral\"].append(rn)\n",
    "    rnsdict[\"Counts\"].append(counts)\n",
    "    rnsdict[\"Category\"].append(rns[rn])\n",
    "\n",
    "rndf = pd.DataFrame(rnsdict)\n",
    "\n",
    "# font = {'family': 'sans', 'size': 14, \"weight\": \"bold\"}\n",
    "plt.rcParams[\"figure.figsize\"] = (15, 5)\n",
    "# plt.rc('font', **font)\n",
    "sns.barplot(x=\"Roman numeral\", y=\"Counts\", dodge=False, hue=\"Category\", palette=\"deep\", data=rndf)\n",
    "plt.xticks(rotation=45)\n",
    "plt.legend(loc=(1.01, 0))\n",
    "plt.yscale(\"log\")"
   ]
  },
  {
   "cell_type": "code",
   "execution_count": 17,
   "metadata": {},
   "outputs": [],
   "source": [
    "# thispcset = set(df.a_pcset.apply(eval).unique())\n",
    "# if dataset == (\"abc\", \"bps\", \"haydnsun\", \"keymodt\", \"mps\", \"tavern\", \"wir\", \"wirwtc\"):\n",
    "#     otherspcset = set(frompcset.keys())\n",
    "# else:\n",
    "#     otherspcset = set(dfothers.a_pcset.apply(eval).unique())\n",
    "\n",
    "# missingpcsets = otherspcset - thispcset\n",
    "# uniquepcsets = thispcset - otherspcset \n",
    "\n",
    "# sns.color_palette(\"rocket\")\n",
    "# venn2([thispcset, otherspcset], set_labels=(\"PCSets in this dataset\", \"PCSets in other datasets\"))\n",
    "\n",
    "# print(len(missingpcsets), missingpcsets)\n",
    "# print()\n",
    "# print(len(uniquepcsets), uniquepcsets)\n",
    "# plt.tight_layout()\n",
    "# plt.savefig(f\"{fdataset[dataset].lower()}_pcset_venn.png\")"
   ]
  },
  {
   "cell_type": "code",
   "execution_count": 18,
   "metadata": {},
   "outputs": [
    {
     "name": "stdout",
     "output_type": "stream",
     "text": [
      "0 set()\n"
     ]
    }
   ],
   "source": [
    "missingrns = set(COMMON_ROMAN_NUMERALS) - set(df.a_romanNumeral.unique())\n",
    "print(len(missingrns), missingrns)"
   ]
  },
  {
   "cell_type": "code",
   "execution_count": 19,
   "metadata": {},
   "outputs": [
    {
     "data": {
      "image/png": "[encoded data removed]",
      "text/plain": [
       "<Figure size 1080x504 with 1 Axes>"
      ]
     },
     "metadata": {
      "needs_background": "light"
     },
     "output_type": "display_data"
    }
   ],
   "source": [
    "def format_key(key):\n",
    "    ret = key\n",
    "    # ret = ret.replace(\"--\", u\"bb\")\n",
    "    # ret = ret.replace(\"-\", \"♭\")\n",
    "    ret = ret.replace(\"-\", \"b\")\n",
    "    # ret = ret.replace(\"#\", \"♯\")\n",
    "    ret += \" \" * (2 - len(ret))\n",
    "    return ret\n",
    "    \n",
    "allkeys = [\"B--\", \"g-\", \"F-\", \"d-\", \"C-\", \"a-\", \"G-\", \"e-\", \"D-\", \"b-\", \"A-\", \"f\", \"E-\", \"c\", \"B-\", \"g\", \"F\", \"d\", \"C\"] + [\n",
    "    \"a\", \"G\", \"e\", \"D\", \"b\", \"A\", \"f#\", \"E\", \"c#\", \"B\", \"g#\", \"F#\", \"d#\", \"C#\", \"a#\", \"G#\", \"e#\", \"D#\", \"b#\"]\n",
    "\n",
    "keysdict = {\"Key\": [], \"Context\": [], \"Counts\": []}\n",
    "\n",
    "moddict = df.a_localKey.value_counts().to_dict()\n",
    "for k in allkeys:\n",
    "    counts = moddict.get(k, 0)\n",
    "    keysdict[\"Key\"].append(format_key(k))\n",
    "    keysdict[\"Context\"].append(\"Modulation\")\n",
    "    keysdict[\"Counts\"].append(counts)\n",
    "\n",
    "tondict = df[df.a_tonicizedKey != df.a_localKey].a_tonicizedKey.value_counts().to_dict()\n",
    "for k in allkeys:\n",
    "    counts = tondict.get(k, 0)\n",
    "    keysdict[\"Key\"].append(format_key(k))\n",
    "    keysdict[\"Context\"].append(\"Tonicization\")\n",
    "    keysdict[\"Counts\"].append(counts)\n",
    "\n",
    "keysdf = pd.DataFrame(keysdict)\n",
    "\n",
    "# plt.rc('font', **font)\n",
    "plt.rcParams[\"figure.figsize\"] = (15, 7)\n",
    "# sns.barplot(x=\"Key\", y=\"Counts\", hue=\"Context\", dodge=False, palette=\"colorblind\", data=keysdf)\n",
    "g = sns.barplot(x=\"Key\", y=\"Counts\", hue=\"Context\", dodge=True, palette=\"colorblind\", data=keysdf)\n",
    "h,l = g.get_legend_handles_labels()\n",
    "plt.legend(h[:2], l[:2], loc=\"upper right\", fontsize=\"x-large\", framealpha=0.25, title=\"Context\")\n",
    "plt.xlabel(f\"Keys in the {fdataset[dataset]} Dataset\", fontsize=\"xx-large\", fontweight=\"bold\")\n",
    "plt.xticks(fontfamily=\"monospace\", fontsize=\"x-large\", fontweight=1000, rotation=45)\n",
    "plt.yscale(\"log\", base=10)\n",
    "plt.yticks(fontsize=\"x-large\")\n",
    "plt.ylabel(\"Total counts (log scale)\", fontsize=\"xx-large\", fontweight=\"bold\")\n",
    "plt.tight_layout()\n",
    "plt.savefig(f\"{fdataset[dataset].lower()}_key_mod_ton.png\")"
   ]
  },
  {
   "cell_type": "code",
   "execution_count": null,
   "metadata": {},
   "outputs": [],
   "source": []
  },
  {
   "cell_type": "code",
   "execution_count": null,
   "metadata": {},
   "outputs": [],
   "source": []
  }
 ],
 "metadata": {
  "kernelspec": {
   "display_name": "Python 3.8.10 ('.env': venv)",
   "language": "python",
   "name": "python3"
  },
  "language_info": {
   "codemirror_mode": {
    "name": "ipython",
    "version": 3
   },
   "file_extension": ".py",
   "mimetype": "text/x-python",
   "name": "python",
   "nbconvert_exporter": "python",
   "pygments_lexer": "ipython3",
   "version": "3.8.10"
  },
  "orig_nbformat": 4,
  "vscode": {
   "interpreter": {
    "hash": "a52a358eae3e51af662b02193f9bc7647da22fcd152427ee064e67420f0b729e"
   }
  }
 },
 "nbformat": 4,
 "nbformat_minor": 2
}
